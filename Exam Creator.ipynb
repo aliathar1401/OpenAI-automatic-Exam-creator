{
 "cells": [
  {
   "cell_type": "markdown",
   "id": "895e4848",
   "metadata": {},
   "source": [
    "## Automatic Test Generation\n",
    "\n",
    "In this project, we will build an automatic test generation and grading platform!\n",
    "All we have to do is to provide a topic, the number of questions and the number of options for each question!\n",
    "Based on this information, a suitable test is generated, presented to the user and graded automatically!"
   ]
  },
  {
   "cell_type": "markdown",
   "id": "cf8a5e50",
   "metadata": {},
   "source": [
    "## Imports"
   ]
  },
  {
   "cell_type": "code",
   "execution_count": 22,
   "id": "8430a15c",
   "metadata": {},
   "outputs": [],
   "source": [
    "import os\n",
    "import openai\n"
   ]
  },
  {
   "cell_type": "markdown",
   "id": "d1311999",
   "metadata": {},
   "source": [
    "## OpenAI API\n",
    "\n",
    "\n",
    "### Set-up Open AI API Key\n"
   ]
  },
  {
   "cell_type": "code",
   "execution_count": 23,
   "id": "e575ce6d",
   "metadata": {},
   "outputs": [],
   "source": [
    "openai.api_key = \"sk-********************************\""
   ]
  },
  {
   "cell_type": "markdown",
   "id": "c9333385",
   "metadata": {},
   "source": [
    "### Tell GPT how to generate the test\n",
    "\n",
    "We tell GPT to create a multiple choiz quiz. Hence we define the topic, the number of possible answers as well as the number of questions.\n",
    "To enable automatical grading later, GPT needs to incorporate the correct answer!\n"
   ]
  },
  {
   "cell_type": "code",
   "execution_count": 24,
   "id": "50f35344",
   "metadata": {},
   "outputs": [],
   "source": [
    "def create_test_prompt(topic, num_questions, num_possible_answers):\n",
    "    prompt = f\"Create a multiple choice quiz on the topic of {topic} consisting of {num_questions} questions. \" \\\n",
    "                 + f\"Each question should have {num_possible_answers} options. \"\\\n",
    "                 + f\"Also include the correct answer for each question using the starting string 'Correct Answer: '.\"\n",
    "    return prompt"
   ]
  },
  {
   "cell_type": "code",
   "execution_count": 67,
   "id": "86db2bc3",
   "metadata": {},
   "outputs": [
    {
     "data": {
      "text/plain": [
       "\"Create a multiple choice quiz on the topic of Korean history consisting of 4 questions. Each question should have 4 options. Also include the correct answer for each question using the starting string 'Correct Answer: '.\""
      ]
     },
     "execution_count": 67,
     "metadata": {},
     "output_type": "execute_result"
    }
   ],
   "source": [
    "create_test_prompt(\"Korean history\", 4, 4)"
   ]
  },
  {
   "cell_type": "markdown",
   "id": "0fc3ec9f",
   "metadata": {},
   "source": [
    "### OpenAI API Call\n",
    "Let's use text-davinci-003 for normal text generation"
   ]
  },
  {
   "cell_type": "code",
   "execution_count": 55,
   "id": "930d61b4",
   "metadata": {},
   "outputs": [],
   "source": [
    "response = openai.Completion.create(engine=\"text-davinci-003\",\n",
    "                                            prompt=create_test_prompt(\"Korean history\", 4, 4),\n",
    "                                            max_tokens=256,\n",
    "                                            temperature=0.7)"
   ]
  },
  {
   "cell_type": "code",
   "execution_count": 56,
   "id": "7da58566",
   "metadata": {},
   "outputs": [
    {
     "data": {
      "text/plain": [
       "<OpenAIObject text_completion id=cmpl-7ZdQbXpyUAT0kQ9HXz2I7JwLong8i at 0x2799dbf9b80> JSON: {\n",
       "  \"id\": \"cmpl-7ZdQbXpyUAT0kQ9HXz2I7JwLong8i\",\n",
       "  \"object\": \"text_completion\",\n",
       "  \"created\": 1688727397,\n",
       "  \"model\": \"text-davinci-003\",\n",
       "  \"choices\": [\n",
       "    {\n",
       "      \"text\": \"\\n\\nQ1. Who was the first ruler of the Korean peninsula?\\n\\nA. Kim Il-sung\\nB. King Gojong\\nC. King Sejong\\nD. King Dongmyeong\\n\\nCorrect Answer: D. King Dongmyeong\\n\\nQ2. When did the Korean War begin?\\n\\nA. 1950\\nB. 1951\\nC. 1952\\nD. 1953\\n\\nCorrect Answer: A. 1950\\n\\nQ3. When did Korea become divided into North and South?\\n\\nA. 1945\\nB. 1948\\nC. 1950\\nD. 1953\\n\\nCorrect Answer: B. 1948\\n\\nQ4. When did South Korea become a democracy?\\n\\nA. 1945\\nB. 1948\\nC. 1987\\nD. 1993\\n\\nCorrect Answer: C. 1987\",\n",
       "      \"index\": 0,\n",
       "      \"logprobs\": null,\n",
       "      \"finish_reason\": \"stop\"\n",
       "    }\n",
       "  ],\n",
       "  \"usage\": {\n",
       "    \"prompt_tokens\": 40,\n",
       "    \"completion_tokens\": 170,\n",
       "    \"total_tokens\": 210\n",
       "  }\n",
       "}"
      ]
     },
     "execution_count": 56,
     "metadata": {},
     "output_type": "execute_result"
    }
   ],
   "source": [
    "response"
   ]
  },
  {
   "cell_type": "code",
   "execution_count": 57,
   "id": "38688eb8",
   "metadata": {},
   "outputs": [
    {
     "data": {
      "text/plain": [
       "'\\n\\nQ1. Who was the first ruler of the Korean peninsula?\\n\\nA. Kim Il-sung\\nB. King Gojong\\nC. King Sejong\\nD. King Dongmyeong\\n\\nCorrect Answer: D. King Dongmyeong\\n\\nQ2. When did the Korean War begin?\\n\\nA. 1950\\nB. 1951\\nC. 1952\\nD. 1953\\n\\nCorrect Answer: A. 1950\\n\\nQ3. When did Korea become divided into North and South?\\n\\nA. 1945\\nB. 1948\\nC. 1950\\nD. 1953\\n\\nCorrect Answer: B. 1948\\n\\nQ4. When did South Korea become a democracy?\\n\\nA. 1945\\nB. 1948\\nC. 1987\\nD. 1993\\n\\nCorrect Answer: C. 1987'"
      ]
     },
     "execution_count": 57,
     "metadata": {},
     "output_type": "execute_result"
    }
   ],
   "source": [
    "response[\"choices\"][0][\"text\"]"
   ]
  },
  {
   "cell_type": "markdown",
   "id": "a428a8e5",
   "metadata": {},
   "source": [
    "### Q/A Extraction\n",
    "\n",
    "We now need to extract the questions and answers to present them to the students later"
   ]
  },
  {
   "cell_type": "code",
   "execution_count": 58,
   "id": "31e6ad53",
   "metadata": {},
   "outputs": [],
   "source": [
    "def create_student_view(test, num_questions):\n",
    "    student_view = {1 : \"\"}\n",
    "    question_number = 1\n",
    "    for line in test.split(\"\\n\"):\n",
    "        if not line.startswith(\"Correct Answer:\"):\n",
    "            student_view[question_number] += line+\"\\n\"\n",
    "        else:\n",
    "\n",
    "            if question_number < num_questions:\n",
    "                question_number+=1\n",
    "                student_view[question_number] = \"\"\n",
    "    return student_view\n",
    " "
   ]
  },
  {
   "cell_type": "code",
   "execution_count": 59,
   "id": "6e92ffd5",
   "metadata": {},
   "outputs": [
    {
     "data": {
      "text/plain": [
       "{1: '\\n\\nQ1. Who was the first ruler of the Korean peninsula?\\n\\nA. Kim Il-sung\\nB. King Gojong\\nC. King Sejong\\nD. King Dongmyeong\\n\\n',\n",
       " 2: '\\nQ2. When did the Korean War begin?\\n\\nA. 1950\\nB. 1951\\nC. 1952\\nD. 1953\\n\\n',\n",
       " 3: '\\nQ3. When did Korea become divided into North and South?\\n\\nA. 1945\\nB. 1948\\nC. 1950\\nD. 1953\\n\\n',\n",
       " 4: '\\nQ4. When did South Korea become a democracy?\\n\\nA. 1945\\nB. 1948\\nC. 1987\\nD. 1993\\n\\n'}"
      ]
     },
     "execution_count": 59,
     "metadata": {},
     "output_type": "execute_result"
    }
   ],
   "source": [
    "create_student_view(response[\"choices\"][0][\"text\"], 4)"
   ]
  },
  {
   "cell_type": "code",
   "execution_count": 60,
   "id": "86f196d0",
   "metadata": {},
   "outputs": [],
   "source": [
    "def extract_answers(test, num_questions):\n",
    "    answers = {1 : \"\"}\n",
    "    question_number = 1\n",
    "    for line in test.split(\"\\n\"):\n",
    "        if line.startswith(\"Correct Answer:\"):\n",
    "            answers[question_number] += line+\"\\n\"\n",
    "\n",
    "            if question_number < num_questions:\n",
    "                question_number+=1\n",
    "                answers[question_number] = \"\"\n",
    "    return answers\n",
    "\n"
   ]
  },
  {
   "cell_type": "code",
   "execution_count": 61,
   "id": "e49a648e",
   "metadata": {},
   "outputs": [
    {
     "data": {
      "text/plain": [
       "{1: 'Correct Answer: D. King Dongmyeong\\n',\n",
       " 2: 'Correct Answer: A. 1950\\n',\n",
       " 3: 'Correct Answer: B. 1948\\n',\n",
       " 4: 'Correct Answer: C. 1987\\n'}"
      ]
     },
     "execution_count": 61,
     "metadata": {},
     "output_type": "execute_result"
    }
   ],
   "source": [
    "extract_answers(response[\"choices\"][0][\"text\"], 4)"
   ]
  },
  {
   "cell_type": "markdown",
   "id": "13127b2e",
   "metadata": {},
   "source": [
    "### Exam simulation\n",
    "Based on the extracted questions, we can now simulate the exam"
   ]
  },
  {
   "cell_type": "code",
   "execution_count": 62,
   "id": "a8336521",
   "metadata": {},
   "outputs": [],
   "source": [
    "def take(student_view):\n",
    "    answers = {}\n",
    "    for question, question_view in student_view.items():\n",
    "        print(question_view)\n",
    "        answer = input(\"Enter your answer: \")\n",
    "        answers[question] = answer\n",
    "    return answers\n"
   ]
  },
  {
   "cell_type": "code",
   "execution_count": null,
   "id": "f8f0a9dc",
   "metadata": {},
   "outputs": [
    {
     "name": "stdout",
     "output_type": "stream",
     "text": [
      "\n",
      "\n",
      "Q1. Who was the first ruler of the Korean peninsula?\n",
      "\n",
      "A. Kim Il-sung\n",
      "B. King Gojong\n",
      "C. King Sejong\n",
      "D. King Dongmyeong\n",
      "\n",
      "\n"
     ]
    }
   ],
   "source": [
    "student_answers = take(create_student_view(response[\"choices\"][0][\"text\"], 4))"
   ]
  },
  {
   "cell_type": "markdown",
   "id": "2426f423",
   "metadata": {},
   "source": [
    "### Automatic Grading\n",
    "Based on the student's answers and correct answers, we can now grade the test!"
   ]
  },
  {
   "cell_type": "code",
   "execution_count": 65,
   "id": "689597b8",
   "metadata": {},
   "outputs": [],
   "source": [
    "def grade(correct_answer_dict, answers):\n",
    "    correct_answers = 0\n",
    "    for question, answer in answers.items():\n",
    "        if answer.upper() == correct_answer_dict[question].upper()[16]:\n",
    "            correct_answers+=1\n",
    "    grade = 100 * correct_answers / len(answers)\n",
    "\n",
    "    if grade < 60:\n",
    "        passed = \"Not passed!\"\n",
    "    else:\n",
    "        passed = \"Passed!\"\n",
    "    return f\"{correct_answers} out of {len(answers)} correct! You achieved: {grade} % : {passed}\"\n"
   ]
  },
  {
   "cell_type": "code",
   "execution_count": 66,
   "id": "91bba050",
   "metadata": {},
   "outputs": [
    {
     "data": {
      "text/plain": [
       "'3 out of 4 correct! You achieved: 75.0 % : Passed!'"
      ]
     },
     "execution_count": 66,
     "metadata": {},
     "output_type": "execute_result"
    }
   ],
   "source": [
    "grade(extract_answers(response[\"choices\"][0][\"text\"], 4), student_answers)"
   ]
  },
  {
   "cell_type": "code",
   "execution_count": null,
   "id": "531ff8a0",
   "metadata": {},
   "outputs": [],
   "source": []
  }
 ],
 "metadata": {
  "kernelspec": {
   "display_name": "Python 3 (ipykernel)",
   "language": "python",
   "name": "python3"
  },
  "language_info": {
   "codemirror_mode": {
    "name": "ipython",
    "version": 3
   },
   "file_extension": ".py",
   "mimetype": "text/x-python",
   "name": "python",
   "nbconvert_exporter": "python",
   "pygments_lexer": "ipython3",
   "version": "3.8.6"
  }
 },
 "nbformat": 4,
 "nbformat_minor": 5
}
